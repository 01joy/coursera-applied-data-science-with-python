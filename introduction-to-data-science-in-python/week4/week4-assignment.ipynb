{
 "cells": [
  {
   "cell_type": "markdown",
   "metadata": {},
   "source": [
    "---\n",
    "\n",
    "_You are currently looking at **version 1.1** of this notebook. To download notebooks and datafiles, as well as get help on Jupyter notebooks in the Coursera platform, visit the [Jupyter Notebook FAQ](https://www.coursera.org/learn/python-data-analysis/resources/0dhYG) course resource._\n",
    "\n",
    "---"
   ]
  },
  {
   "cell_type": "code",
   "execution_count": 1,
   "metadata": {
    "collapsed": true
   },
   "outputs": [],
   "source": [
    "import pandas as pd\n",
    "import numpy as np\n",
    "from scipy.stats import ttest_ind"
   ]
  },
  {
   "cell_type": "markdown",
   "metadata": {},
   "source": [
    "# Assignment 4 - Hypothesis Testing\n",
    "This assignment requires more individual learning than previous assignments - you are encouraged to check out the [pandas documentation](http://pandas.pydata.org/pandas-docs/stable/) to find functions or methods you might not have used yet, or ask questions on [Stack Overflow](http://stackoverflow.com/) and tag them as pandas and python related. And of course, the discussion forums are open for interaction with your peers and the course staff.\n",
    "\n",
    "Definitions:\n",
    "* A _quarter_ is a specific three month period, Q1 is January through March, Q2 is April through June, Q3 is July through September, Q4 is October through December.\n",
    "* A _recession_ is defined as starting with two consecutive quarters of GDP decline, and ending with two consecutive quarters of GDP growth.\n",
    "* A _recession bottom_ is the quarter within a recession which had the lowest GDP.\n",
    "* A _university town_ is a city which has a high percentage of university students compared to the total population of the city.\n",
    "\n",
    "**Hypothesis**: University towns have their mean housing prices less effected by recessions. Run a t-test to compare the ratio of the mean price of houses in university towns the quarter before the recession starts compared to the recession bottom. (`price_ratio=quarter_before_recession/recession_bottom`)\n",
    "\n",
    "The following data files are available for this assignment:\n",
    "* From the [Zillow research data site](http://www.zillow.com/research/data/) there is housing data for the United States. In particular the datafile for [all homes at a city level](http://files.zillowstatic.com/research/public/City/City_Zhvi_AllHomes.csv), ```City_Zhvi_AllHomes.csv```, has median home sale prices at a fine grained level.\n",
    "* From the Wikipedia page on college towns is a list of [university towns in the United States](https://en.wikipedia.org/wiki/List_of_college_towns#College_towns_in_the_United_States) which has been copy and pasted into the file ```university_towns.txt```.\n",
    "* From Bureau of Economic Analysis, US Department of Commerce, the [GDP over time](http://www.bea.gov/national/index.htm#gdp) of the United States in current dollars (use the chained value in 2009 dollars), in quarterly intervals, in the file ```gdplev.xls```. For this assignment, only look at GDP data from the first quarter of 2000 onward.\n",
    "\n",
    "Each function in this assignment below is worth 10%, with the exception of ```run_ttest()```, which is worth 50%."
   ]
  },
  {
   "cell_type": "code",
   "execution_count": 2,
   "metadata": {
    "collapsed": true
   },
   "outputs": [],
   "source": [
    "# Use this dictionary to map state names to two letter acronyms\n",
    "states = {'OH': 'Ohio', 'KY': 'Kentucky', 'AS': 'American Samoa', 'NV': 'Nevada', 'WY': 'Wyoming', 'NA': 'National', 'AL': 'Alabama', 'MD': 'Maryland', 'AK': 'Alaska', 'UT': 'Utah', 'OR': 'Oregon', 'MT': 'Montana', 'IL': 'Illinois', 'TN': 'Tennessee', 'DC': 'District of Columbia', 'VT': 'Vermont', 'ID': 'Idaho', 'AR': 'Arkansas', 'ME': 'Maine', 'WA': 'Washington', 'HI': 'Hawaii', 'WI': 'Wisconsin', 'MI': 'Michigan', 'IN': 'Indiana', 'NJ': 'New Jersey', 'AZ': 'Arizona', 'GU': 'Guam', 'MS': 'Mississippi', 'PR': 'Puerto Rico', 'NC': 'North Carolina', 'TX': 'Texas', 'SD': 'South Dakota', 'MP': 'Northern Mariana Islands', 'IA': 'Iowa', 'MO': 'Missouri', 'CT': 'Connecticut', 'WV': 'West Virginia', 'SC': 'South Carolina', 'LA': 'Louisiana', 'KS': 'Kansas', 'NY': 'New York', 'NE': 'Nebraska', 'OK': 'Oklahoma', 'FL': 'Florida', 'CA': 'California', 'CO': 'Colorado', 'PA': 'Pennsylvania', 'DE': 'Delaware', 'NM': 'New Mexico', 'RI': 'Rhode Island', 'MN': 'Minnesota', 'VI': 'Virgin Islands', 'NH': 'New Hampshire', 'MA': 'Massachusetts', 'GA': 'Georgia', 'ND': 'North Dakota', 'VA': 'Virginia'}"
   ]
  },
  {
   "cell_type": "code",
   "execution_count": 3,
   "metadata": {
    "collapsed": true
   },
   "outputs": [],
   "source": [
    "def get_list_of_university_towns():\n",
    "    '''Returns a DataFrame of towns and the states they are in from the \n",
    "    university_towns.txt list. The format of the DataFrame should be:\n",
    "    DataFrame( [ [\"Michigan\", \"Ann Arbor\"], [\"Michigan\", \"Yipsilanti\"] ], \n",
    "    columns=[\"State\", \"RegionName\"]  )\n",
    "    \n",
    "    The following cleaning needs to be done:\n",
    "\n",
    "    1. For \"State\", removing characters from \"[\" to the end.\n",
    "    2. For \"RegionName\", when applicable, removing every character from \" (\" to the end.\n",
    "    3. Depending on how you read the data, you may need to remove newline character '\\n'. '''\n",
    "    \n",
    "    data=[]\n",
    "    f=open('university_towns.txt')\n",
    "    state = ''\n",
    "    for line in f:\n",
    "        line = line.strip()\n",
    "        if len(line) < 1:\n",
    "            continue\n",
    "        if '[edit]' in line:\n",
    "            state = line[:line.index('[')]\n",
    "        else:\n",
    "            region = line\n",
    "            if  ' (' in region:\n",
    "                region = region[:region.index(' (')]\n",
    "            data.append([state,region])\n",
    "    f.close()\n",
    "    df_town = pd.DataFrame(data,columns=['State','RegionName'])\n",
    "    return df_town\n",
    "\n",
    "#print(get_list_of_university_towns())"
   ]
  },
  {
   "cell_type": "code",
   "execution_count": 4,
   "metadata": {
    "collapsed": true
   },
   "outputs": [],
   "source": [
    "def get_recession_start():\n",
    "    '''Returns the year and quarter of the recession start time as a \n",
    "    string value in a format such as 2005q3'''\n",
    "    \n",
    "    df_gdp = pd.read_excel('gdplev.xls',skiprows=7, parse_cols=\"E,F\",names=[\"Quarter\",\"GDP\"])\n",
    "    df_gdp = df_gdp[df_gdp['Quarter']>='2000q1']\n",
    "    for i in range(2,len(df_gdp)):\n",
    "        if (df_gdp.iloc[i-2]['GDP'] > df_gdp.iloc[i-1]['GDP']) and (df_gdp.iloc[i-1]['GDP'] > df_gdp.iloc[i]['GDP']):\n",
    "            return df_gdp.iloc[i-2]['Quarter']\n",
    "\n",
    "#get_recession_start()"
   ]
  },
  {
   "cell_type": "code",
   "execution_count": 5,
   "metadata": {},
   "outputs": [
    {
     "data": {
      "text/plain": [
       "'2009q4'"
      ]
     },
     "execution_count": 5,
     "metadata": {},
     "output_type": "execute_result"
    }
   ],
   "source": [
    "def get_recession_end():\n",
    "    '''Returns the year and quarter of the recession end time as a \n",
    "    string value in a format such as 2005q3'''\n",
    "    \n",
    "    df_gdp = pd.read_excel('gdplev.xls',skiprows=7, parse_cols=\"E,F\",names=[\"Quarter\",\"GDP\"])\n",
    "    start = get_recession_start()\n",
    "    df_gdp = df_gdp[df_gdp['Quarter']> start]\n",
    "    \n",
    "    # 最后一次遇到的\n",
    "#     for i in range(len(df_gdp)-1,1,-1):\n",
    "#         if df_gdp.iloc[i]['GDP'] > df_gdp.iloc[i-1]['GDP'] and df_gdp.iloc[i-1]['GDP'] > df_gdp.iloc[i-2]['GDP']:\n",
    "#             return df_gdp.iloc[i]['Quarter']\n",
    "\n",
    "    # 必须是get_recession_start之后第一次遇到的\n",
    "    for i in range(2,len(df_gdp)):\n",
    "        if (df_gdp.iloc[i-2]['GDP'] < df_gdp.iloc[i-1]['GDP']) and (df_gdp.iloc[i-1]['GDP'] < df_gdp.iloc[i]['GDP']):\n",
    "            return df_gdp.iloc[i]['Quarter']\n",
    "        \n",
    "get_recession_end()"
   ]
  },
  {
   "cell_type": "code",
   "execution_count": 6,
   "metadata": {
    "collapsed": true
   },
   "outputs": [],
   "source": [
    "def get_recession_bottom():\n",
    "    '''Returns the year and quarter of the recession bottom time as a \n",
    "    string value in a format such as 2005q3'''\n",
    "    \n",
    "    df_gdp = pd.read_excel('gdplev.xls',skiprows=7, parse_cols=\"E,F\",names=[\"Quarter\",\"GDP\"])\n",
    "    df_gdp = df_gdp[df_gdp['Quarter']>='2000q1']\n",
    "    start = get_recession_start()\n",
    "    end = get_recession_end()\n",
    "    bottom = df_gdp[(df_gdp['Quarter']>start) & (df_gdp['Quarter']<end)]['GDP'].idxmin()\n",
    "    return df_gdp.loc[bottom]['Quarter']\n",
    "\n",
    "#get_recession_bottom()"
   ]
  },
  {
   "cell_type": "code",
   "execution_count": 7,
   "metadata": {
    "collapsed": true
   },
   "outputs": [],
   "source": [
    "# very low performance\n",
    "# row-wise computation\n",
    "\n",
    "# df_houses = pd.read_csv('City_Zhvi_AllHomes.csv')\n",
    "# df_houses.replace({'State':states},inplace=True)\n",
    "\n",
    "# years = range(2000,2017)\n",
    "# quarters = range(1,5)\n",
    "\n",
    "# def convert_to_quarters(row):\n",
    "#     s = pd.Series()\n",
    "#     s['State']=row['State']\n",
    "#     s['RegionName']=row['RegionName']\n",
    "#     for y in years:\n",
    "#         for q in quarters:\n",
    "#             q_name = '%dq%d'%(y,q)\n",
    "#             if q_name > '2016q3':\n",
    "#                 continue\n",
    "#             st = 3*(q-1)+1\n",
    "#             prices = []\n",
    "#             for m in range(st,st+3):\n",
    "#                 y_m = '%d-%02d'%(y,m)\n",
    "#                 if y_m in row:\n",
    "#                     prices.append(row['%d-%02d'%(y,m)])\n",
    "#             s[q_name]=np.mean(prices)\n",
    "#     return s\n",
    "\n",
    "# df_q=df_houses.apply(convert_to_quarters,axis=1)\n",
    "# df_q.set_index([\"State\",\"RegionName\"],inplace=True)\n",
    "# print(df_q)\n",
    "\n",
    "\n",
    "\n",
    "# very high performance\n",
    "# column-wise computation\n",
    "def convert_housing_data_to_quarters():\n",
    "    '''Converts the housing data to quarters and returns it as mean \n",
    "    values in a dataframe. This dataframe should be a dataframe with\n",
    "    columns for 2000q1 through 2016q3, and should have a multi-index\n",
    "    in the shape of [\"State\",\"RegionName\"].\n",
    "    \n",
    "    Note: Quarters are defined in the assignment description, they are\n",
    "    not arbitrary three month periods.\n",
    "    \n",
    "    The resulting dataframe should have 67 columns, and 10,730 rows.\n",
    "    '''\n",
    "    \n",
    "    df_houses = pd.read_csv('City_Zhvi_AllHomes.csv')\n",
    "    df_houses.replace({'State':states},inplace=True)\n",
    "\n",
    "    years = range(2000,2017)\n",
    "    quarters = range(1,5)\n",
    "\n",
    "    df_houses.set_index([\"State\",\"RegionName\"],inplace=True)\n",
    "    new_columns = []\n",
    "\n",
    "    for y in years:\n",
    "        for q in quarters:\n",
    "            q_name = '%dq%d'%(y,q)\n",
    "            if q_name > '2016q3':\n",
    "                continue\n",
    "            st = 3*(q-1)+1\n",
    "            months=[]\n",
    "            for m in range(st,st+3):\n",
    "                y_m = '%d-%02d'%(y,m)\n",
    "                if y_m in df_houses:\n",
    "                    months.append(y_m)\n",
    "            df_houses[q_name]=df_houses[months].mean(axis=1)\n",
    "            new_columns.append(q_name)\n",
    "    df_houses=df_houses[new_columns]\n",
    "\n",
    "    return df_houses\n",
    "\n",
    "#convert_housing_data_to_quarters()"
   ]
  },
  {
   "cell_type": "code",
   "execution_count": 8,
   "metadata": {
    "collapsed": true
   },
   "outputs": [],
   "source": [
    "def prev_quarter(cur):\n",
    "    year,q=cur.split('q')\n",
    "    if q == '1':\n",
    "        y = int(year)-1\n",
    "        return '%dq4'%y\n",
    "    else:\n",
    "        return '%sq%d'%(year,int(q)-1)\n",
    "\n",
    "def run_ttest():\n",
    "    '''First creates new data showing the decline or growth of housing prices\n",
    "    between the recession start and the recession bottom. Then runs a ttest\n",
    "    comparing the university town values to the non-university towns values, \n",
    "    return whether the alternative hypothesis (that the two groups are the same)\n",
    "    is true or not as well as the p-value of the confidence. \n",
    "    \n",
    "    Return the tuple (different, p, better) where different=True if the t-test is\n",
    "    True at a p<0.01 (we reject the null hypothesis), or different=False if \n",
    "    otherwise (we cannot reject the null hypothesis). The variable p should\n",
    "    be equal to the exact p value returned from scipy.stats.ttest_ind(). The\n",
    "    value for better should be either \"university town\" or \"non-university town\"\n",
    "    depending on which has a lower mean price ratio (which is equivilent to a\n",
    "    reduced market loss).'''\n",
    "    \n",
    "    start = get_recession_start()\n",
    "    prev = prev_quarter(start)\n",
    "    bottom = get_recession_bottom()\n",
    "\n",
    "    uni_towns = get_list_of_university_towns()\n",
    "    uni_towns = set(uni_towns['RegionName'])\n",
    "\n",
    "    df_houses = convert_housing_data_to_quarters()\n",
    "    df_houses['price_ratio'] = df_houses[prev] / df_houses[bottom]\n",
    "    df_houses['is_uni_town'] = df_houses.apply(lambda x : 1 if x.name[1] in uni_towns else 0, axis = 1)\n",
    "\n",
    "    uni_ratio = df_houses[df_houses['is_uni_town']==1]['price_ratio'].dropna()\n",
    "    non_uni_ratio = df_houses[df_houses['is_uni_town']==0]['price_ratio'].dropna()\n",
    "\n",
    "    p = ttest_ind(uni_ratio, non_uni_ratio)[1]\n",
    "    different = True if p < 0.01 else False\n",
    "    better = 'university town' if uni_ratio.mean() < non_uni_ratio.mean() else 'non-university town'\n",
    "\n",
    "    return (different, p, better)\n",
    "\n",
    "#run_ttest()"
   ]
  },
  {
   "cell_type": "code",
   "execution_count": null,
   "metadata": {
    "collapsed": true
   },
   "outputs": [],
   "source": []
  }
 ],
 "metadata": {
  "coursera": {
   "course_slug": "python-data-analysis",
   "graded_item_id": "Il9Fx",
   "launcher_item_id": "TeDW0",
   "part_id": "WGlun"
  },
  "kernelspec": {
   "display_name": "Python 3",
   "language": "python",
   "name": "python3"
  },
  "language_info": {
   "codemirror_mode": {
    "name": "ipython",
    "version": 3
   },
   "file_extension": ".py",
   "mimetype": "text/x-python",
   "name": "python",
   "nbconvert_exporter": "python",
   "pygments_lexer": "ipython3",
   "version": "3.6.0"
  }
 },
 "nbformat": 4,
 "nbformat_minor": 1
}
